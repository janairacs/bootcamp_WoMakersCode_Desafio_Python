{
  "nbformat": 4,
  "nbformat_minor": 0,
  "metadata": {
    "colab": {
      "provenance": [],
      "authorship_tag": "ABX9TyOgfGer0Yi6+BkbrYfrcDrT",
      "include_colab_link": true
    },
    "kernelspec": {
      "name": "python3",
      "display_name": "Python 3"
    },
    "language_info": {
      "name": "python"
    }
  },
  "cells": [
    {
      "cell_type": "markdown",
      "metadata": {
        "id": "view-in-github",
        "colab_type": "text"
      },
      "source": [
        "<a href=\"https://colab.research.google.com/github/janairacs/bootcamp_WoMakersCode_Desafio_Python/blob/main/Desafio_5.ipynb\" target=\"_parent\"><img src=\"https://colab.research.google.com/assets/colab-badge.svg\" alt=\"Open In Colab\"/></a>"
      ]
    },
    {
      "cell_type": "code",
      "execution_count": 1,
      "metadata": {
        "colab": {
          "base_uri": "https://localhost:8080/"
        },
        "id": "XUulUkqTeyM2",
        "outputId": "b699f907-3ec5-4929-9953-4accd69af2a3"
      },
      "outputs": [
        {
          "output_type": "stream",
          "name": "stdout",
          "text": [
            "Collecting pydataset\n",
            "  Downloading pydataset-0.2.0.tar.gz (15.9 MB)\n",
            "\u001b[2K     \u001b[90m━━━━━━━━━━━━━━━━━━━━━━━━━━━━━━━━━━━━━━━━\u001b[0m \u001b[32m15.9/15.9 MB\u001b[0m \u001b[31m46.1 MB/s\u001b[0m eta \u001b[36m0:00:00\u001b[0m\n",
            "\u001b[?25h  Preparing metadata (setup.py) ... \u001b[?25l\u001b[?25hdone\n",
            "Requirement already satisfied: pandas in /usr/local/lib/python3.10/dist-packages (from pydataset) (1.5.3)\n",
            "Requirement already satisfied: python-dateutil>=2.8.1 in /usr/local/lib/python3.10/dist-packages (from pandas->pydataset) (2.8.2)\n",
            "Requirement already satisfied: pytz>=2020.1 in /usr/local/lib/python3.10/dist-packages (from pandas->pydataset) (2023.4)\n",
            "Requirement already satisfied: numpy>=1.21.0 in /usr/local/lib/python3.10/dist-packages (from pandas->pydataset) (1.23.5)\n",
            "Requirement already satisfied: six>=1.5 in /usr/local/lib/python3.10/dist-packages (from python-dateutil>=2.8.1->pandas->pydataset) (1.16.0)\n",
            "Building wheels for collected packages: pydataset\n",
            "  Building wheel for pydataset (setup.py) ... \u001b[?25l\u001b[?25hdone\n",
            "  Created wheel for pydataset: filename=pydataset-0.2.0-py3-none-any.whl size=15939416 sha256=8ab8bad070519bdb36d2ef90dc82719bf272348af8044d116b6014a5a6434546\n",
            "  Stored in directory: /root/.cache/pip/wheels/2b/83/5c/073c3755e8b7704e4677557b2055e61026c1a2342149214c13\n",
            "Successfully built pydataset\n",
            "Installing collected packages: pydataset\n",
            "Successfully installed pydataset-0.2.0\n",
            "Requirement already satisfied: pandas in /usr/local/lib/python3.10/dist-packages (1.5.3)\n",
            "Requirement already satisfied: python-dateutil>=2.8.1 in /usr/local/lib/python3.10/dist-packages (from pandas) (2.8.2)\n",
            "Requirement already satisfied: pytz>=2020.1 in /usr/local/lib/python3.10/dist-packages (from pandas) (2023.4)\n",
            "Requirement already satisfied: numpy>=1.21.0 in /usr/local/lib/python3.10/dist-packages (from pandas) (1.23.5)\n",
            "Requirement already satisfied: six>=1.5 in /usr/local/lib/python3.10/dist-packages (from python-dateutil>=2.8.1->pandas) (1.16.0)\n"
          ]
        }
      ],
      "source": [
        "#Instalação\n",
        "\n",
        "!pip install pydataset\n",
        "!pip install pandas"
      ]
    },
    {
      "cell_type": "code",
      "source": [
        "#Importar as bibliotecas\n",
        "import pandas as pd\n",
        "import matplotlib.pyplot as plt\n",
        "import pydataset as data"
      ],
      "metadata": {
        "colab": {
          "base_uri": "https://localhost:8080/"
        },
        "id": "_3pYxVQQf-X_",
        "outputId": "af17cd5e-43eb-4389-c1ac-24af71989bda"
      },
      "execution_count": 2,
      "outputs": [
        {
          "output_type": "stream",
          "name": "stdout",
          "text": [
            "initiated datasets repo at: /root/.pydataset/\n"
          ]
        }
      ]
    },
    {
      "cell_type": "code",
      "source": [
        "# Carregar o conjunto de dados Forbes2000\n",
        "forbes_df = data.data(\"Forbes2000\")"
      ],
      "metadata": {
        "id": "o3zB02NJgDuu"
      },
      "execution_count": 19,
      "outputs": []
    },
    {
      "cell_type": "code",
      "source": [
        "# Carregar o conjunto de dados do Forbes usando pydataset\n",
        "forbes_df.head()"
      ],
      "metadata": {
        "colab": {
          "base_uri": "https://localhost:8080/",
          "height": 206
        },
        "id": "Sc6LY6cugUsN",
        "outputId": "4690e104-accc-465e-a9cb-2f834126ba73"
      },
      "execution_count": 20,
      "outputs": [
        {
          "output_type": "execute_result",
          "data": {
            "text/plain": [
              "   rank                 name         country              category   sales  profits   assets  \\\n",
              "1     1            Citigroup   United States               Banking   94.71    17.85  1264.03   \n",
              "2     2     General Electric   United States         Conglomerates  134.19    15.59   626.93   \n",
              "3     3  American Intl Group   United States             Insurance   76.66     6.46   647.66   \n",
              "4     4           ExxonMobil   United States  Oil & gas operations  222.88    20.96   166.99   \n",
              "5     5                   BP  United Kingdom  Oil & gas operations  232.57    10.27   177.57   \n",
              "\n",
              "   marketvalue  \n",
              "1       255.30  \n",
              "2       328.54  \n",
              "3       194.87  \n",
              "4       277.02  \n",
              "5       173.54  "
            ],
            "text/html": [
              "\n",
              "  <div id=\"df-8e4f739c-b10a-45ef-8b6c-2bde5f09a8ee\" class=\"colab-df-container\">\n",
              "    <div>\n",
              "<style scoped>\n",
              "    .dataframe tbody tr th:only-of-type {\n",
              "        vertical-align: middle;\n",
              "    }\n",
              "\n",
              "    .dataframe tbody tr th {\n",
              "        vertical-align: top;\n",
              "    }\n",
              "\n",
              "    .dataframe thead th {\n",
              "        text-align: right;\n",
              "    }\n",
              "</style>\n",
              "<table border=\"1\" class=\"dataframe\">\n",
              "  <thead>\n",
              "    <tr style=\"text-align: right;\">\n",
              "      <th></th>\n",
              "      <th>rank</th>\n",
              "      <th>name</th>\n",
              "      <th>country</th>\n",
              "      <th>category</th>\n",
              "      <th>sales</th>\n",
              "      <th>profits</th>\n",
              "      <th>assets</th>\n",
              "      <th>marketvalue</th>\n",
              "    </tr>\n",
              "  </thead>\n",
              "  <tbody>\n",
              "    <tr>\n",
              "      <th>1</th>\n",
              "      <td>1</td>\n",
              "      <td>Citigroup</td>\n",
              "      <td>United States</td>\n",
              "      <td>Banking</td>\n",
              "      <td>94.71</td>\n",
              "      <td>17.85</td>\n",
              "      <td>1264.03</td>\n",
              "      <td>255.30</td>\n",
              "    </tr>\n",
              "    <tr>\n",
              "      <th>2</th>\n",
              "      <td>2</td>\n",
              "      <td>General Electric</td>\n",
              "      <td>United States</td>\n",
              "      <td>Conglomerates</td>\n",
              "      <td>134.19</td>\n",
              "      <td>15.59</td>\n",
              "      <td>626.93</td>\n",
              "      <td>328.54</td>\n",
              "    </tr>\n",
              "    <tr>\n",
              "      <th>3</th>\n",
              "      <td>3</td>\n",
              "      <td>American Intl Group</td>\n",
              "      <td>United States</td>\n",
              "      <td>Insurance</td>\n",
              "      <td>76.66</td>\n",
              "      <td>6.46</td>\n",
              "      <td>647.66</td>\n",
              "      <td>194.87</td>\n",
              "    </tr>\n",
              "    <tr>\n",
              "      <th>4</th>\n",
              "      <td>4</td>\n",
              "      <td>ExxonMobil</td>\n",
              "      <td>United States</td>\n",
              "      <td>Oil &amp; gas operations</td>\n",
              "      <td>222.88</td>\n",
              "      <td>20.96</td>\n",
              "      <td>166.99</td>\n",
              "      <td>277.02</td>\n",
              "    </tr>\n",
              "    <tr>\n",
              "      <th>5</th>\n",
              "      <td>5</td>\n",
              "      <td>BP</td>\n",
              "      <td>United Kingdom</td>\n",
              "      <td>Oil &amp; gas operations</td>\n",
              "      <td>232.57</td>\n",
              "      <td>10.27</td>\n",
              "      <td>177.57</td>\n",
              "      <td>173.54</td>\n",
              "    </tr>\n",
              "  </tbody>\n",
              "</table>\n",
              "</div>\n",
              "    <div class=\"colab-df-buttons\">\n",
              "\n",
              "  <div class=\"colab-df-container\">\n",
              "    <button class=\"colab-df-convert\" onclick=\"convertToInteractive('df-8e4f739c-b10a-45ef-8b6c-2bde5f09a8ee')\"\n",
              "            title=\"Convert this dataframe to an interactive table.\"\n",
              "            style=\"display:none;\">\n",
              "\n",
              "  <svg xmlns=\"http://www.w3.org/2000/svg\" height=\"24px\" viewBox=\"0 -960 960 960\">\n",
              "    <path d=\"M120-120v-720h720v720H120Zm60-500h600v-160H180v160Zm220 220h160v-160H400v160Zm0 220h160v-160H400v160ZM180-400h160v-160H180v160Zm440 0h160v-160H620v160ZM180-180h160v-160H180v160Zm440 0h160v-160H620v160Z\"/>\n",
              "  </svg>\n",
              "    </button>\n",
              "\n",
              "  <style>\n",
              "    .colab-df-container {\n",
              "      display:flex;\n",
              "      gap: 12px;\n",
              "    }\n",
              "\n",
              "    .colab-df-convert {\n",
              "      background-color: #E8F0FE;\n",
              "      border: none;\n",
              "      border-radius: 50%;\n",
              "      cursor: pointer;\n",
              "      display: none;\n",
              "      fill: #1967D2;\n",
              "      height: 32px;\n",
              "      padding: 0 0 0 0;\n",
              "      width: 32px;\n",
              "    }\n",
              "\n",
              "    .colab-df-convert:hover {\n",
              "      background-color: #E2EBFA;\n",
              "      box-shadow: 0px 1px 2px rgba(60, 64, 67, 0.3), 0px 1px 3px 1px rgba(60, 64, 67, 0.15);\n",
              "      fill: #174EA6;\n",
              "    }\n",
              "\n",
              "    .colab-df-buttons div {\n",
              "      margin-bottom: 4px;\n",
              "    }\n",
              "\n",
              "    [theme=dark] .colab-df-convert {\n",
              "      background-color: #3B4455;\n",
              "      fill: #D2E3FC;\n",
              "    }\n",
              "\n",
              "    [theme=dark] .colab-df-convert:hover {\n",
              "      background-color: #434B5C;\n",
              "      box-shadow: 0px 1px 3px 1px rgba(0, 0, 0, 0.15);\n",
              "      filter: drop-shadow(0px 1px 2px rgba(0, 0, 0, 0.3));\n",
              "      fill: #FFFFFF;\n",
              "    }\n",
              "  </style>\n",
              "\n",
              "    <script>\n",
              "      const buttonEl =\n",
              "        document.querySelector('#df-8e4f739c-b10a-45ef-8b6c-2bde5f09a8ee button.colab-df-convert');\n",
              "      buttonEl.style.display =\n",
              "        google.colab.kernel.accessAllowed ? 'block' : 'none';\n",
              "\n",
              "      async function convertToInteractive(key) {\n",
              "        const element = document.querySelector('#df-8e4f739c-b10a-45ef-8b6c-2bde5f09a8ee');\n",
              "        const dataTable =\n",
              "          await google.colab.kernel.invokeFunction('convertToInteractive',\n",
              "                                                    [key], {});\n",
              "        if (!dataTable) return;\n",
              "\n",
              "        const docLinkHtml = 'Like what you see? Visit the ' +\n",
              "          '<a target=\"_blank\" href=https://colab.research.google.com/notebooks/data_table.ipynb>data table notebook</a>'\n",
              "          + ' to learn more about interactive tables.';\n",
              "        element.innerHTML = '';\n",
              "        dataTable['output_type'] = 'display_data';\n",
              "        await google.colab.output.renderOutput(dataTable, element);\n",
              "        const docLink = document.createElement('div');\n",
              "        docLink.innerHTML = docLinkHtml;\n",
              "        element.appendChild(docLink);\n",
              "      }\n",
              "    </script>\n",
              "  </div>\n",
              "\n",
              "\n",
              "<div id=\"df-b2f65bbc-eecb-415d-95dc-c0f8102657b0\">\n",
              "  <button class=\"colab-df-quickchart\" onclick=\"quickchart('df-b2f65bbc-eecb-415d-95dc-c0f8102657b0')\"\n",
              "            title=\"Suggest charts\"\n",
              "            style=\"display:none;\">\n",
              "\n",
              "<svg xmlns=\"http://www.w3.org/2000/svg\" height=\"24px\"viewBox=\"0 0 24 24\"\n",
              "     width=\"24px\">\n",
              "    <g>\n",
              "        <path d=\"M19 3H5c-1.1 0-2 .9-2 2v14c0 1.1.9 2 2 2h14c1.1 0 2-.9 2-2V5c0-1.1-.9-2-2-2zM9 17H7v-7h2v7zm4 0h-2V7h2v10zm4 0h-2v-4h2v4z\"/>\n",
              "    </g>\n",
              "</svg>\n",
              "  </button>\n",
              "\n",
              "<style>\n",
              "  .colab-df-quickchart {\n",
              "      --bg-color: #E8F0FE;\n",
              "      --fill-color: #1967D2;\n",
              "      --hover-bg-color: #E2EBFA;\n",
              "      --hover-fill-color: #174EA6;\n",
              "      --disabled-fill-color: #AAA;\n",
              "      --disabled-bg-color: #DDD;\n",
              "  }\n",
              "\n",
              "  [theme=dark] .colab-df-quickchart {\n",
              "      --bg-color: #3B4455;\n",
              "      --fill-color: #D2E3FC;\n",
              "      --hover-bg-color: #434B5C;\n",
              "      --hover-fill-color: #FFFFFF;\n",
              "      --disabled-bg-color: #3B4455;\n",
              "      --disabled-fill-color: #666;\n",
              "  }\n",
              "\n",
              "  .colab-df-quickchart {\n",
              "    background-color: var(--bg-color);\n",
              "    border: none;\n",
              "    border-radius: 50%;\n",
              "    cursor: pointer;\n",
              "    display: none;\n",
              "    fill: var(--fill-color);\n",
              "    height: 32px;\n",
              "    padding: 0;\n",
              "    width: 32px;\n",
              "  }\n",
              "\n",
              "  .colab-df-quickchart:hover {\n",
              "    background-color: var(--hover-bg-color);\n",
              "    box-shadow: 0 1px 2px rgba(60, 64, 67, 0.3), 0 1px 3px 1px rgba(60, 64, 67, 0.15);\n",
              "    fill: var(--button-hover-fill-color);\n",
              "  }\n",
              "\n",
              "  .colab-df-quickchart-complete:disabled,\n",
              "  .colab-df-quickchart-complete:disabled:hover {\n",
              "    background-color: var(--disabled-bg-color);\n",
              "    fill: var(--disabled-fill-color);\n",
              "    box-shadow: none;\n",
              "  }\n",
              "\n",
              "  .colab-df-spinner {\n",
              "    border: 2px solid var(--fill-color);\n",
              "    border-color: transparent;\n",
              "    border-bottom-color: var(--fill-color);\n",
              "    animation:\n",
              "      spin 1s steps(1) infinite;\n",
              "  }\n",
              "\n",
              "  @keyframes spin {\n",
              "    0% {\n",
              "      border-color: transparent;\n",
              "      border-bottom-color: var(--fill-color);\n",
              "      border-left-color: var(--fill-color);\n",
              "    }\n",
              "    20% {\n",
              "      border-color: transparent;\n",
              "      border-left-color: var(--fill-color);\n",
              "      border-top-color: var(--fill-color);\n",
              "    }\n",
              "    30% {\n",
              "      border-color: transparent;\n",
              "      border-left-color: var(--fill-color);\n",
              "      border-top-color: var(--fill-color);\n",
              "      border-right-color: var(--fill-color);\n",
              "    }\n",
              "    40% {\n",
              "      border-color: transparent;\n",
              "      border-right-color: var(--fill-color);\n",
              "      border-top-color: var(--fill-color);\n",
              "    }\n",
              "    60% {\n",
              "      border-color: transparent;\n",
              "      border-right-color: var(--fill-color);\n",
              "    }\n",
              "    80% {\n",
              "      border-color: transparent;\n",
              "      border-right-color: var(--fill-color);\n",
              "      border-bottom-color: var(--fill-color);\n",
              "    }\n",
              "    90% {\n",
              "      border-color: transparent;\n",
              "      border-bottom-color: var(--fill-color);\n",
              "    }\n",
              "  }\n",
              "</style>\n",
              "\n",
              "  <script>\n",
              "    async function quickchart(key) {\n",
              "      const quickchartButtonEl =\n",
              "        document.querySelector('#' + key + ' button');\n",
              "      quickchartButtonEl.disabled = true;  // To prevent multiple clicks.\n",
              "      quickchartButtonEl.classList.add('colab-df-spinner');\n",
              "      try {\n",
              "        const charts = await google.colab.kernel.invokeFunction(\n",
              "            'suggestCharts', [key], {});\n",
              "      } catch (error) {\n",
              "        console.error('Error during call to suggestCharts:', error);\n",
              "      }\n",
              "      quickchartButtonEl.classList.remove('colab-df-spinner');\n",
              "      quickchartButtonEl.classList.add('colab-df-quickchart-complete');\n",
              "    }\n",
              "    (() => {\n",
              "      let quickchartButtonEl =\n",
              "        document.querySelector('#df-b2f65bbc-eecb-415d-95dc-c0f8102657b0 button');\n",
              "      quickchartButtonEl.style.display =\n",
              "        google.colab.kernel.accessAllowed ? 'block' : 'none';\n",
              "    })();\n",
              "  </script>\n",
              "</div>\n",
              "\n",
              "    </div>\n",
              "  </div>\n"
            ]
          },
          "metadata": {},
          "execution_count": 20
        }
      ]
    },
    {
      "cell_type": "code",
      "source": [
        "# 1. Qual a empresa mais valiosa da lista da Forbes 2000?\n",
        "# Encontrar o valor máximo de 'marketvalue'  * round para arredondar o valor\n",
        "\n",
        "maximo = forbes_df['marketvalue'].max()\n",
        "print(\"Valor máximo de 'marketvalue':\", round (maximo))"
      ],
      "metadata": {
        "colab": {
          "base_uri": "https://localhost:8080/"
        },
        "id": "jlEkEOLSgJFt",
        "outputId": "ec55b45a-d356-4006-9ae7-3801178ae25a"
      },
      "execution_count": 23,
      "outputs": [
        {
          "output_type": "stream",
          "name": "stdout",
          "text": [
            "Valor máximo de 'marketvalue': 329\n"
          ]
        }
      ]
    },
    {
      "cell_type": "code",
      "source": [
        "# Criar um novo DataFrame contendo apenas a entrada com o valor máximo de 'marketvalue'\n",
        "new_forbes_df = forbes_df[forbes_df['marketvalue'] == maximo]\n",
        "print(new_forbes_df)"
      ],
      "metadata": {
        "colab": {
          "base_uri": "https://localhost:8080/"
        },
        "id": "mcSlM5oZi204",
        "outputId": "01a516e9-2072-462c-f484-45e5675d071f"
      },
      "execution_count": 25,
      "outputs": [
        {
          "output_type": "stream",
          "name": "stdout",
          "text": [
            "   rank              name        country       category   sales  profits  assets  marketvalue\n",
            "2     2  General Electric  United States  Conglomerates  134.19    15.59  626.93       328.54\n"
          ]
        }
      ]
    },
    {
      "cell_type": "code",
      "source": [
        "#Construa uma tabela com as TOP 10 empresas mais lucrativas da lista.\n",
        "# Seleciona as top 10 entradas do DataFrame com base nos maiores valores da coluna 'profits'\n",
        "top10_df = forbes_df.nlargest(10, 'profits')"
      ],
      "metadata": {
        "id": "yxoQDn9wjKkY"
      },
      "execution_count": 28,
      "outputs": []
    },
    {
      "cell_type": "code",
      "source": [
        "# Obter as categorias únicas das top 10 entradas\n",
        "categorias_unicas = top10_df['category'].unique()\n",
        "print(\"\\nTop 10 empresas com os maiores valores em 'profits':\", top10_df )\n",
        "\n",
        "print(\"\\nCategorias únicas das top 10 empresas:\", categorias_unicas)\n",
        "\n"
      ],
      "metadata": {
        "colab": {
          "base_uri": "https://localhost:8080/"
        },
        "id": "W7nJgfo4jcDm",
        "outputId": "a32fded0-720c-4361-9a0e-bfe3c5dd3ef3"
      },
      "execution_count": 34,
      "outputs": [
        {
          "output_type": "stream",
          "name": "stdout",
          "text": [
            "\n",
            "Top 10 empresas com os maiores valores em 'profits':     rank              name         country                category   sales  profits   assets  \\\n",
            "4      4        ExxonMobil   United States    Oil & gas operations  222.88    20.96   166.99   \n",
            "1      1         Citigroup   United States                 Banking   94.71    17.85  1264.03   \n",
            "2      2  General Electric   United States           Conglomerates  134.19    15.59   626.93   \n",
            "6      6   Bank of America   United States                 Banking   49.01    10.81   736.45   \n",
            "5      5                BP  United Kingdom    Oil & gas operations  232.57    10.27   177.57   \n",
            "20    20       Freddie Mac   United States  Diversified financials   46.26    10.09   752.25   \n",
            "22    22      Altria Group   United States    Food drink & tobacco   60.70     9.20    96.18   \n",
            "10    10   Wal-Mart Stores   United States               Retailing  256.33     9.05   104.91   \n",
            "31    31         Microsoft   United States     Software & services   34.27     8.88    85.94   \n",
            "17    17             Total          France    Oil & gas operations  131.64     8.84    87.84   \n",
            "\n",
            "    marketvalue  \n",
            "4        277.02  \n",
            "1        255.30  \n",
            "2        328.54  \n",
            "6        117.55  \n",
            "5        173.54  \n",
            "20        44.25  \n",
            "22       111.02  \n",
            "10       243.74  \n",
            "31       287.02  \n",
            "17       116.64  \n",
            "\n",
            "Categorias únicas das top 10 empresas: ['Oil & gas operations' 'Banking' 'Conglomerates' 'Diversified financials'\n",
            " 'Food drink & tobacco' 'Retailing' 'Software & services']\n"
          ]
        }
      ]
    },
    {
      "cell_type": "code",
      "source": [
        "#3. Qual a média de valores de empresa das cinco categorias mais valiosas?\n",
        "\n",
        "\n",
        "# Calcular a média dos valores em 'profits' agrupados por categoria e arredondar para 2 casas decimais\n",
        "media_por_categoria = top10_df.groupby('category')['profits'].mean().round(2)\n",
        "\n",
        "# Calcular a soma dos valores em 'profits' agrupados por categoria e arredondar para 2 casas decimais\n",
        "soma_por_categoria = top10_df.groupby('category')['profits'].sum().round(2)\n",
        "\n",
        "print(\"\\nMédia dos valores em 'profits' por categoria:\", media_por_categoria)\n",
        "print(\"\\nSoma dos valores em 'profits' por categoria:\", soma_por_categoria)\n",
        "\n",
        "\n"
      ],
      "metadata": {
        "colab": {
          "base_uri": "https://localhost:8080/"
        },
        "id": "jXAZ0V7NkKva",
        "outputId": "c1d62f5d-08b8-4a67-934b-3ebc95da4c03"
      },
      "execution_count": 36,
      "outputs": [
        {
          "output_type": "stream",
          "name": "stdout",
          "text": [
            "\n",
            "Média dos valores em 'profits' por categoria: category\n",
            "Banking                   14.33\n",
            "Conglomerates             15.59\n",
            "Diversified financials    10.09\n",
            "Food drink & tobacco       9.20\n",
            "Oil & gas operations      13.36\n",
            "Retailing                  9.05\n",
            "Software & services        8.88\n",
            "Name: profits, dtype: float64\n",
            "\n",
            "Soma dos valores em 'profits' por categoria: category\n",
            "Banking                   28.66\n",
            "Conglomerates             15.59\n",
            "Diversified financials    10.09\n",
            "Food drink & tobacco       9.20\n",
            "Oil & gas operations      40.07\n",
            "Retailing                  9.05\n",
            "Software & services        8.88\n",
            "Name: profits, dtype: float64\n"
          ]
        }
      ]
    }
  ]
}