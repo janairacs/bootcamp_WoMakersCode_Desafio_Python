{
  "nbformat": 4,
  "nbformat_minor": 0,
  "metadata": {
    "colab": {
      "provenance": [],
      "authorship_tag": "ABX9TyMNhkZMg7bAJQpjXVaERuiH",
      "include_colab_link": true
    },
    "kernelspec": {
      "name": "python3",
      "display_name": "Python 3"
    },
    "language_info": {
      "name": "python"
    }
  },
  "cells": [
    {
      "cell_type": "markdown",
      "metadata": {
        "id": "view-in-github",
        "colab_type": "text"
      },
      "source": [
        "<a href=\"https://colab.research.google.com/github/janairacs/bootcamp_WoMakersCode_Desafio_Python/blob/main/Desafio_3.ipynb\" target=\"_parent\"><img src=\"https://colab.research.google.com/assets/colab-badge.svg\" alt=\"Open In Colab\"/></a>"
      ]
    },
    {
      "cell_type": "code",
      "source": [
        "#Instação\n",
        "\n",
        "!pip install pydataset\n",
        "!pip install pandas"
      ],
      "metadata": {
        "colab": {
          "base_uri": "https://localhost:8080/"
        },
        "id": "xfyoPa0KCd4u",
        "outputId": "280cd1fc-ac0c-43ab-8185-7a7fd4f0397a"
      },
      "execution_count": 2,
      "outputs": [
        {
          "output_type": "stream",
          "name": "stdout",
          "text": [
            "Collecting pydataset\n",
            "  Downloading pydataset-0.2.0.tar.gz (15.9 MB)\n",
            "\u001b[2K     \u001b[90m━━━━━━━━━━━━━━━━━━━━━━━━━━━━━━━━━━━━━━━━\u001b[0m \u001b[32m15.9/15.9 MB\u001b[0m \u001b[31m67.0 MB/s\u001b[0m eta \u001b[36m0:00:00\u001b[0m\n",
            "\u001b[?25h  Preparing metadata (setup.py) ... \u001b[?25l\u001b[?25hdone\n",
            "Requirement already satisfied: pandas in /usr/local/lib/python3.10/dist-packages (from pydataset) (1.5.3)\n",
            "Requirement already satisfied: python-dateutil>=2.8.1 in /usr/local/lib/python3.10/dist-packages (from pandas->pydataset) (2.8.2)\n",
            "Requirement already satisfied: pytz>=2020.1 in /usr/local/lib/python3.10/dist-packages (from pandas->pydataset) (2023.4)\n",
            "Requirement already satisfied: numpy>=1.21.0 in /usr/local/lib/python3.10/dist-packages (from pandas->pydataset) (1.23.5)\n",
            "Requirement already satisfied: six>=1.5 in /usr/local/lib/python3.10/dist-packages (from python-dateutil>=2.8.1->pandas->pydataset) (1.16.0)\n",
            "Building wheels for collected packages: pydataset\n",
            "  Building wheel for pydataset (setup.py) ... \u001b[?25l\u001b[?25hdone\n",
            "  Created wheel for pydataset: filename=pydataset-0.2.0-py3-none-any.whl size=15939416 sha256=247a819cb48bb4a4d2eb6ebd758183f4ce2dc922c859cd72016ba66b6e0d46b7\n",
            "  Stored in directory: /root/.cache/pip/wheels/2b/83/5c/073c3755e8b7704e4677557b2055e61026c1a2342149214c13\n",
            "Successfully built pydataset\n",
            "Installing collected packages: pydataset\n",
            "Successfully installed pydataset-0.2.0\n",
            "Requirement already satisfied: pandas in /usr/local/lib/python3.10/dist-packages (1.5.3)\n",
            "Requirement already satisfied: python-dateutil>=2.8.1 in /usr/local/lib/python3.10/dist-packages (from pandas) (2.8.2)\n",
            "Requirement already satisfied: pytz>=2020.1 in /usr/local/lib/python3.10/dist-packages (from pandas) (2023.4)\n",
            "Requirement already satisfied: numpy>=1.21.0 in /usr/local/lib/python3.10/dist-packages (from pandas) (1.23.5)\n",
            "Requirement already satisfied: six>=1.5 in /usr/local/lib/python3.10/dist-packages (from python-dateutil>=2.8.1->pandas) (1.16.0)\n"
          ]
        }
      ]
    },
    {
      "cell_type": "code",
      "execution_count": 9,
      "metadata": {
        "colab": {
          "base_uri": "https://localhost:8080/"
        },
        "id": "WvUIW9LpCMB9",
        "outputId": "397c1729-f185-4cec-9929-6e257e96e1ca"
      },
      "outputs": [
        {
          "output_type": "stream",
          "name": "stdout",
          "text": [
            "initiated datasets repo at: /root/.pydataset/\n"
          ]
        }
      ],
      "source": [
        "#Importar as bibliotecas\n",
        "import pandas as pd\n",
        "import matplotlib.pyplot as plt\n",
        "import pydataset as data"
      ]
    },
    {
      "cell_type": "code",
      "source": [
        "# Código do dataset\n",
        "codigo_dataset = \"titanic\""
      ],
      "metadata": {
        "id": "cUiKCRXgCxQT"
      },
      "execution_count": 10,
      "outputs": []
    },
    {
      "cell_type": "code",
      "source": [
        "\n",
        "# Carregar o conjunto de dados do Titanic usando pydataset\n",
        "df_titanic = data.data(codigo_dataset)"
      ],
      "metadata": {
        "id": "cwv50rymCyoo"
      },
      "execution_count": 13,
      "outputs": []
    },
    {
      "cell_type": "code",
      "source": [
        "# 1. Quantas pessoas sobreviveram e quantas morreram?\n",
        "\n",
        "# Contagem de sobreviventes\n",
        "sobreviventes = df_titanic['survived'].value_counts()[1]\n",
        "# Contagem de mortos\n",
        "mortos = df_titanic['survived'].value_counts()[0]\n",
        "\n",
        "#Impressão dos sobreviventes e mortos\n",
        "print(\"Sobreviventes:\", sobreviventes)\n",
        "print(\"Mortos:\", mortos)"
      ],
      "metadata": {
        "colab": {
          "base_uri": "https://localhost:8080/"
        },
        "id": "EAXG_howDJwm",
        "outputId": "846413d6-c905-4e2d-c0eb-fedc1dea2d4a"
      },
      "execution_count": 20,
      "outputs": [
        {
          "output_type": "stream",
          "name": "stdout",
          "text": [
            "Sobreviventes: 499\n",
            "Mortos: 817\n"
          ]
        }
      ]
    },
    {
      "cell_type": "code",
      "source": [
        "# 2. Quantas pessoas eram da primeira, segunda e terceira classe?\n",
        "classes = df_titanic['class'].value_counts()\n",
        "print(\"\\nNúmero de passageiros por classe:\")\n",
        "print(classes)"
      ],
      "metadata": {
        "colab": {
          "base_uri": "https://localhost:8080/"
        },
        "id": "2-VJK9quDOmP",
        "outputId": "0a310106-d5c6-4955-db4c-8d24b1f77b98"
      },
      "execution_count": 16,
      "outputs": [
        {
          "output_type": "stream",
          "name": "stdout",
          "text": [
            "\n",
            "Número de passageiros por classe:\n",
            "3rd class    706\n",
            "1st class    325\n",
            "2nd class    285\n",
            "Name: class, dtype: int64\n"
          ]
        }
      ]
    },
    {
      "cell_type": "code",
      "source": [
        "# 3. Qual a porcentagem de sobreviventes na primeira classe?\n",
        "\n",
        "# Filtrar sobreviventes da primeira classe\n",
        "sobreviventes_primeira_classe = df_titanic[(df_titanic['class'] == '1st class') & (df_titanic['survived'] == 'yes')].shape[0]\n",
        "\n",
        "# Número total de passageiros na primeira classe\n",
        "total_primeira_classe = classes['1st class']\n",
        "\n",
        "# Calcular a porcentagem de sobreviventes na primeira classe\n",
        "porcentagem_sobreviventes_primeira_classe = (sobreviventes_primeira_classe / total_primeira_classe) * 100\n",
        "\n",
        "print(\"\\nPorcentagem de sobreviventes na primeira classe:\", round(porcentagem_sobreviventes_primeira_classe))\n"
      ],
      "metadata": {
        "colab": {
          "base_uri": "https://localhost:8080/"
        },
        "id": "LhWBBpHNDSkG",
        "outputId": "2ddba637-fece-4e47-9539-a9667eaf83c1"
      },
      "execution_count": 22,
      "outputs": [
        {
          "output_type": "stream",
          "name": "stdout",
          "text": [
            "\n",
            "Porcentagem de sobreviventes na primeira classe: 62\n"
          ]
        }
      ]
    },
    {
      "cell_type": "code",
      "source": [
        "# 4. Qual a porcentagem de mortos da terceira classe?\n",
        "\n",
        "# Filtrar mortos da terceira classe\n",
        "mortos_terceira_classe = df_titanic[(df_titanic['class'] == '3rd class') & (df_titanic['survived'] == 'no')].shape[0]\n",
        "\n",
        "# Número total de passageiros na terceira classe\n",
        "total_terceira_classe = classes['3rd class']\n",
        "\n",
        "# Calcular a porcentagem de mortos na terceira classe\n",
        "porcentagem_mortos_terceira_classe = (mortos_terceira_classe / total_terceira_classe) * 100\n",
        "\n",
        "print(\"Porcentagem de mortos na terceira classe:\", round(porcentagem_mortos_terceira_classe))"
      ],
      "metadata": {
        "colab": {
          "base_uri": "https://localhost:8080/"
        },
        "id": "zqH1YofADaTn",
        "outputId": "276d0d18-6583-48f8-83a9-d621318a03e3"
      },
      "execution_count": 21,
      "outputs": [
        {
          "output_type": "stream",
          "name": "stdout",
          "text": [
            "Porcentagem de mortos na terceira classe: 75\n"
          ]
        }
      ]
    }
  ]
}